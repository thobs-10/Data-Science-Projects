{
 "cells": [
  {
   "cell_type": "markdown",
   "id": "ec515673-b9be-4640-b9e4-7f583bf24e9e",
   "metadata": {},
   "source": [
    "# Movie Recommendation System"
   ]
  },
  {
   "cell_type": "markdown",
   "id": "16167543-e88c-4cd4-bdbc-30ff1830af51",
   "metadata": {},
   "source": [
    "### Import Libraries"
   ]
  },
  {
   "cell_type": "code",
   "execution_count": null,
   "id": "70914070-ef1b-4a9a-84f4-bc454dac6aaf",
   "metadata": {},
   "outputs": [],
   "source": [
    "import pandas as pd\n",
    "import numpy as np\n",
    "import difflib\n",
    "import sklearn.feature_extraction.text import TfidfVectorizer\n",
    "from sklearn.metrics.pairwise import cosine_similarity # finds the similarity score for thee text given by the user\n",
    "# to the ones in the dataset and find the closest to that input"
   ]
  },
  {
   "cell_type": "markdown",
   "id": "3d8438be-bec3-4122-b478-c42302ee57f9",
   "metadata": {},
   "source": [
    "### Data Gathering and Preprocessing"
   ]
  },
  {
   "cell_type": "code",
   "execution_count": null,
   "id": "5a1c64ba-97ea-4303-9478-d500b5da5dc7",
   "metadata": {},
   "outputs": [],
   "source": [
    "# load data \n",
    "movies_df = pd.read_csv('/content/movies.csv')"
   ]
  },
  {
   "cell_type": "code",
   "execution_count": null,
   "id": "5fd80780-980f-4af5-b904-e0b170b583ba",
   "metadata": {},
   "outputs": [],
   "source": []
  },
  {
   "cell_type": "code",
   "execution_count": null,
   "id": "977db97c-bd20-4fdd-9af3-a8e3e5393caa",
   "metadata": {},
   "outputs": [],
   "source": []
  },
  {
   "cell_type": "code",
   "execution_count": null,
   "id": "5f668686-122d-46e5-b150-42ca5cebbc28",
   "metadata": {},
   "outputs": [],
   "source": []
  },
  {
   "cell_type": "code",
   "execution_count": null,
   "id": "728fe7a7-4e2a-4bb6-8974-3cbde3230aa7",
   "metadata": {},
   "outputs": [],
   "source": []
  },
  {
   "cell_type": "code",
   "execution_count": null,
   "id": "db0fdf90-930a-406b-b6fc-80c961a60708",
   "metadata": {},
   "outputs": [],
   "source": []
  },
  {
   "cell_type": "code",
   "execution_count": null,
   "id": "056b18e3-f471-4945-b3c5-f70c199e19d4",
   "metadata": {},
   "outputs": [],
   "source": []
  }
 ],
 "metadata": {
  "kernelspec": {
   "display_name": "Python 3 (ipykernel)",
   "language": "python",
   "name": "python3"
  },
  "language_info": {
   "codemirror_mode": {
    "name": "ipython",
    "version": 3
   },
   "file_extension": ".py",
   "mimetype": "text/x-python",
   "name": "python",
   "nbconvert_exporter": "python",
   "pygments_lexer": "ipython3",
   "version": "3.9.7"
  }
 },
 "nbformat": 4,
 "nbformat_minor": 5
}
